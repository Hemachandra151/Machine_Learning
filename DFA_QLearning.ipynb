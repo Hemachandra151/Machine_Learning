{
  "nbformat": 4,
  "nbformat_minor": 0,
  "metadata": {
    "colab": {
      "provenance": []
    },
    "kernelspec": {
      "name": "python3",
      "display_name": "Python 3"
    },
    "language_info": {
      "name": "python"
    }
  },
  "cells": [
    {
      "cell_type": "code",
      "execution_count": 24,
      "metadata": {
        "id": "MarocQbzbM9x"
      },
      "outputs": [],
      "source": [
        "import numpy as np\n",
        "import random as rn"
      ]
    },
    {
      "cell_type": "markdown",
      "source": [
        "#Deterministic Finite Automata"
      ],
      "metadata": {
        "id": "rm3BpadDbUWG"
      }
    },
    {
      "cell_type": "code",
      "source": [
        "#String that starts with ab ends with ba. Also include strings like aba\n",
        "\n",
        "Q = ['q0', 'q1', 'q2', 'q3', 'qt']\n",
        "R = [[('q1', 10),('qt', 0)],[('qt',0),('q2',30)],[('q3',100),('q2',30)],[('q2',30),('q2',30)],[('qt',0),('qt',0)]]\n",
        "\n",
        "Opt = [[[0,0] for _ in range(2)] for _ in range(5)]\n"
      ],
      "metadata": {
        "id": "6kPa-k5Vb4w4"
      },
      "execution_count": 25,
      "outputs": []
    },
    {
      "cell_type": "markdown",
      "source": [
        "#Methods"
      ],
      "metadata": {
        "id": "X1qJkALhmUwE"
      }
    },
    {
      "cell_type": "code",
      "source": [
        "def getMax(n):\n",
        "  if Opt[n][0][1]>Opt[n][1][1]:\n",
        "    return Opt[n][0][1]\n",
        "  else:\n",
        "    return Opt[n][1][1]"
      ],
      "metadata": {
        "id": "noAS93RIjGkU"
      },
      "execution_count": 26,
      "outputs": []
    },
    {
      "cell_type": "markdown",
      "source": [
        "#Q Learning"
      ],
      "metadata": {
        "id": "sdLNZShvmYzS"
      }
    },
    {
      "cell_type": "code",
      "source": [
        "mit = 20\n",
        "\n",
        "for episode in range(200):\n",
        "  s = rn.randint(0,4)\n",
        "  for term in range(5):\n",
        "    a = rn.randint(0,1)\n",
        "    newS = Q.index(R[s][a][0])\n",
        "    reward = R[s][a][1]\n",
        "    Opt[s][a][1] = round(reward + 0.3*getMax(newS), 2)\n",
        "    Opt[s][a][0] = Q[newS]\n",
        "    s=newS\n",
        "\n",
        "print(\"State \\t a \\t b\")\n",
        "for i,v in enumerate(Opt):\n",
        "  print(f\"{Q[i]} {v}\")"
      ],
      "metadata": {
        "colab": {
          "base_uri": "https://localhost:8080/"
        },
        "id": "9U80dWSRee1K",
        "outputId": "126caa13-ee5d-442c-b2bb-48b424177c42"
      },
      "execution_count": 27,
      "outputs": [
        {
          "output_type": "stream",
          "name": "stdout",
          "text": [
            "State \t a \t b\n",
            "q0 [['q1', 29.78], ['qt', 0.0]]\n",
            "q1 [['qt', 0.0], ['q2', 65.93]]\n",
            "q2 [['q3', 119.78], ['q2', 65.93]]\n",
            "q3 [['q2', 65.93], ['q2', 65.93]]\n",
            "qt [['qt', 0.0], ['qt', 0.0]]\n"
          ]
        }
      ]
    }
  ]
}