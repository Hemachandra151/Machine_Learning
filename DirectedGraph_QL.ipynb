{
  "nbformat": 4,
  "nbformat_minor": 0,
  "metadata": {
    "colab": {
      "provenance": []
    },
    "kernelspec": {
      "name": "python3",
      "display_name": "Python 3"
    },
    "language_info": {
      "name": "python"
    }
  },
  "cells": [
    {
      "cell_type": "code",
      "execution_count": 40,
      "metadata": {
        "id": "O8TP3Pwoxlx3"
      },
      "outputs": [],
      "source": [
        "import random as rn"
      ]
    },
    {
      "cell_type": "markdown",
      "source": [
        "#Graph"
      ],
      "metadata": {
        "id": "1mbTWxjFxqih"
      }
    },
    {
      "cell_type": "code",
      "source": [
        "Key = ['A','B','C','D','E','F','G','H','I']\n",
        "R = [[-1 for _ in range(9)] for _ in range(9)]\n",
        "Q = [[0 for _ in range(9)] for _ in range(9)]"
      ],
      "metadata": {
        "id": "RIKQ72-SxtIg"
      },
      "execution_count": 41,
      "outputs": []
    },
    {
      "cell_type": "code",
      "source": [
        "R[0][1]=0\n",
        "R[1][0]=0\n",
        "R[1][2]=0\n",
        "R[2][3]=0\n",
        "R[2][4]=0\n",
        "R[3][2]=0\n",
        "R[4][2]=0\n",
        "R[4][5]=0\n",
        "R[4][6]=100\n",
        "R[5][4]=0\n",
        "R[6][7]=0\n",
        "R[7][8]=0\n",
        "R[8][6]=100\n",
        "\n",
        "#G is the Goal state"
      ],
      "metadata": {
        "id": "h16Z91OlyxXB"
      },
      "execution_count": 42,
      "outputs": []
    },
    {
      "cell_type": "markdown",
      "source": [
        "#Q Learning"
      ],
      "metadata": {
        "id": "NxCooxDs0MZz"
      }
    },
    {
      "cell_type": "code",
      "source": [
        "mit = 50\n",
        "\n",
        "for episode in range(mit):\n",
        "  s = rn.randint(0,8)\n",
        "  for term in range(8):\n",
        "    actions = []\n",
        "    for i,x in enumerate(R[s]):\n",
        "      if x!=-1:\n",
        "        actions.append(i)\n",
        "    a = rn.choice(actions)\n",
        "    newS = a\n",
        "    reward = R[s][a]\n",
        "    Q[s][a] = round(reward + 0.8*max(Q[newS]), 2)\n",
        "    s = newS\n",
        "\n",
        "for v in Q:\n",
        "  print(v)"
      ],
      "metadata": {
        "colab": {
          "base_uri": "https://localhost:8080/"
        },
        "id": "wHiEwYGQ0P2L",
        "outputId": "36b36f06-e283-453f-a3da-ab7a81bec6ec"
      },
      "execution_count": 43,
      "outputs": [
        {
          "output_type": "stream",
          "name": "stdout",
          "text": [
            "[0, 104.91, 0, 0, 0, 0, 0, 0, 0]\n",
            "[82.42, 0, 131.14, 0, 0, 0, 0, 0, 0]\n",
            "[0, 0, 0, 104.91, 163.93, 0, 0, 0, 0]\n",
            "[0, 0, 131.14, 0, 0, 0, 0, 0, 0]\n",
            "[0, 0, 131.14, 0, 0, 131.14, 204.91, 0, 0]\n",
            "[0, 0, 0, 0, 163.93, 0, 0, 0, 0]\n",
            "[0, 0, 0, 0, 0, 0, 0, 131.14, 0]\n",
            "[0, 0, 0, 0, 0, 0, 0, 0, 163.93]\n",
            "[0, 0, 0, 0, 0, 0, 204.91, 0, 0]\n"
          ]
        }
      ]
    },
    {
      "cell_type": "markdown",
      "source": [
        "#Optimal Path"
      ],
      "metadata": {
        "id": "_z7CgkyE5ToM"
      }
    },
    {
      "cell_type": "code",
      "source": [
        "for i in range(9):\n",
        "  for j in range(9):\n",
        "    if Q[i][j]>0:\n",
        "      print(f\"{Key[i]} --------> {Key[j]} : Reward={Q[i][j]}\", end=\"\\t\")\n",
        "  print()\n"
      ],
      "metadata": {
        "colab": {
          "base_uri": "https://localhost:8080/"
        },
        "id": "k3l3gfdG5V1v",
        "outputId": "de4b1206-35c3-43fe-8c32-374ec7c25dcd"
      },
      "execution_count": 44,
      "outputs": [
        {
          "output_type": "stream",
          "name": "stdout",
          "text": [
            "A --------> B : Reward=104.91\t\n",
            "B --------> A : Reward=82.42\tB --------> C : Reward=131.14\t\n",
            "C --------> D : Reward=104.91\tC --------> E : Reward=163.93\t\n",
            "D --------> C : Reward=131.14\t\n",
            "E --------> C : Reward=131.14\tE --------> F : Reward=131.14\tE --------> G : Reward=204.91\t\n",
            "F --------> E : Reward=163.93\t\n",
            "G --------> H : Reward=131.14\t\n",
            "H --------> I : Reward=163.93\t\n",
            "I --------> G : Reward=204.91\t\n"
          ]
        }
      ]
    }
  ]
}