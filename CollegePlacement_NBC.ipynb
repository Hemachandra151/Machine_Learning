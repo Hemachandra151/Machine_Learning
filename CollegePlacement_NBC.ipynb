{
  "nbformat": 4,
  "nbformat_minor": 0,
  "metadata": {
    "colab": {
      "provenance": []
    },
    "kernelspec": {
      "name": "python3",
      "display_name": "Python 3"
    },
    "language_info": {
      "name": "python"
    }
  },
  "cells": [
    {
      "cell_type": "code",
      "execution_count": 136,
      "metadata": {
        "colab": {
          "base_uri": "https://localhost:8080/",
          "height": 206
        },
        "id": "zWtIOsyYIBxq",
        "outputId": "7f975733-d206-4f8b-dc4f-eb649f1fd986"
      },
      "outputs": [
        {
          "output_type": "execute_result",
          "data": {
            "text/plain": [
              "   Python  DeepLearning  MachineLearning  BigData  CloudComputing Placement\n",
              "0    0.80          0.57             0.63     0.50            0.34       Yes\n",
              "1    0.81          0.90             0.62     0.71            0.92        No\n",
              "2    0.49          0.69             0.62     0.64            0.41        No\n",
              "3    0.40          0.94             0.60     0.26            0.47        No\n",
              "4    0.31          0.87             1.00     0.23            0.99        No"
            ],
            "text/html": [
              "\n",
              "  <div id=\"df-712bd95b-abff-49ee-8dff-b2f4d2405388\" class=\"colab-df-container\">\n",
              "    <div>\n",
              "<style scoped>\n",
              "    .dataframe tbody tr th:only-of-type {\n",
              "        vertical-align: middle;\n",
              "    }\n",
              "\n",
              "    .dataframe tbody tr th {\n",
              "        vertical-align: top;\n",
              "    }\n",
              "\n",
              "    .dataframe thead th {\n",
              "        text-align: right;\n",
              "    }\n",
              "</style>\n",
              "<table border=\"1\" class=\"dataframe\">\n",
              "  <thead>\n",
              "    <tr style=\"text-align: right;\">\n",
              "      <th></th>\n",
              "      <th>Python</th>\n",
              "      <th>DeepLearning</th>\n",
              "      <th>MachineLearning</th>\n",
              "      <th>BigData</th>\n",
              "      <th>CloudComputing</th>\n",
              "      <th>Placement</th>\n",
              "    </tr>\n",
              "  </thead>\n",
              "  <tbody>\n",
              "    <tr>\n",
              "      <th>0</th>\n",
              "      <td>0.80</td>\n",
              "      <td>0.57</td>\n",
              "      <td>0.63</td>\n",
              "      <td>0.50</td>\n",
              "      <td>0.34</td>\n",
              "      <td>Yes</td>\n",
              "    </tr>\n",
              "    <tr>\n",
              "      <th>1</th>\n",
              "      <td>0.81</td>\n",
              "      <td>0.90</td>\n",
              "      <td>0.62</td>\n",
              "      <td>0.71</td>\n",
              "      <td>0.92</td>\n",
              "      <td>No</td>\n",
              "    </tr>\n",
              "    <tr>\n",
              "      <th>2</th>\n",
              "      <td>0.49</td>\n",
              "      <td>0.69</td>\n",
              "      <td>0.62</td>\n",
              "      <td>0.64</td>\n",
              "      <td>0.41</td>\n",
              "      <td>No</td>\n",
              "    </tr>\n",
              "    <tr>\n",
              "      <th>3</th>\n",
              "      <td>0.40</td>\n",
              "      <td>0.94</td>\n",
              "      <td>0.60</td>\n",
              "      <td>0.26</td>\n",
              "      <td>0.47</td>\n",
              "      <td>No</td>\n",
              "    </tr>\n",
              "    <tr>\n",
              "      <th>4</th>\n",
              "      <td>0.31</td>\n",
              "      <td>0.87</td>\n",
              "      <td>1.00</td>\n",
              "      <td>0.23</td>\n",
              "      <td>0.99</td>\n",
              "      <td>No</td>\n",
              "    </tr>\n",
              "  </tbody>\n",
              "</table>\n",
              "</div>\n",
              "    <div class=\"colab-df-buttons\">\n",
              "\n",
              "  <div class=\"colab-df-container\">\n",
              "    <button class=\"colab-df-convert\" onclick=\"convertToInteractive('df-712bd95b-abff-49ee-8dff-b2f4d2405388')\"\n",
              "            title=\"Convert this dataframe to an interactive table.\"\n",
              "            style=\"display:none;\">\n",
              "\n",
              "  <svg xmlns=\"http://www.w3.org/2000/svg\" height=\"24px\" viewBox=\"0 -960 960 960\">\n",
              "    <path d=\"M120-120v-720h720v720H120Zm60-500h600v-160H180v160Zm220 220h160v-160H400v160Zm0 220h160v-160H400v160ZM180-400h160v-160H180v160Zm440 0h160v-160H620v160ZM180-180h160v-160H180v160Zm440 0h160v-160H620v160Z\"/>\n",
              "  </svg>\n",
              "    </button>\n",
              "\n",
              "  <style>\n",
              "    .colab-df-container {\n",
              "      display:flex;\n",
              "      gap: 12px;\n",
              "    }\n",
              "\n",
              "    .colab-df-convert {\n",
              "      background-color: #E8F0FE;\n",
              "      border: none;\n",
              "      border-radius: 50%;\n",
              "      cursor: pointer;\n",
              "      display: none;\n",
              "      fill: #1967D2;\n",
              "      height: 32px;\n",
              "      padding: 0 0 0 0;\n",
              "      width: 32px;\n",
              "    }\n",
              "\n",
              "    .colab-df-convert:hover {\n",
              "      background-color: #E2EBFA;\n",
              "      box-shadow: 0px 1px 2px rgba(60, 64, 67, 0.3), 0px 1px 3px 1px rgba(60, 64, 67, 0.15);\n",
              "      fill: #174EA6;\n",
              "    }\n",
              "\n",
              "    .colab-df-buttons div {\n",
              "      margin-bottom: 4px;\n",
              "    }\n",
              "\n",
              "    [theme=dark] .colab-df-convert {\n",
              "      background-color: #3B4455;\n",
              "      fill: #D2E3FC;\n",
              "    }\n",
              "\n",
              "    [theme=dark] .colab-df-convert:hover {\n",
              "      background-color: #434B5C;\n",
              "      box-shadow: 0px 1px 3px 1px rgba(0, 0, 0, 0.15);\n",
              "      filter: drop-shadow(0px 1px 2px rgba(0, 0, 0, 0.3));\n",
              "      fill: #FFFFFF;\n",
              "    }\n",
              "  </style>\n",
              "\n",
              "    <script>\n",
              "      const buttonEl =\n",
              "        document.querySelector('#df-712bd95b-abff-49ee-8dff-b2f4d2405388 button.colab-df-convert');\n",
              "      buttonEl.style.display =\n",
              "        google.colab.kernel.accessAllowed ? 'block' : 'none';\n",
              "\n",
              "      async function convertToInteractive(key) {\n",
              "        const element = document.querySelector('#df-712bd95b-abff-49ee-8dff-b2f4d2405388');\n",
              "        const dataTable =\n",
              "          await google.colab.kernel.invokeFunction('convertToInteractive',\n",
              "                                                    [key], {});\n",
              "        if (!dataTable) return;\n",
              "\n",
              "        const docLinkHtml = 'Like what you see? Visit the ' +\n",
              "          '<a target=\"_blank\" href=https://colab.research.google.com/notebooks/data_table.ipynb>data table notebook</a>'\n",
              "          + ' to learn more about interactive tables.';\n",
              "        element.innerHTML = '';\n",
              "        dataTable['output_type'] = 'display_data';\n",
              "        await google.colab.output.renderOutput(dataTable, element);\n",
              "        const docLink = document.createElement('div');\n",
              "        docLink.innerHTML = docLinkHtml;\n",
              "        element.appendChild(docLink);\n",
              "      }\n",
              "    </script>\n",
              "  </div>\n",
              "\n",
              "\n",
              "<div id=\"df-7ec132bb-38bf-4a91-b220-ec9f567a446a\">\n",
              "  <button class=\"colab-df-quickchart\" onclick=\"quickchart('df-7ec132bb-38bf-4a91-b220-ec9f567a446a')\"\n",
              "            title=\"Suggest charts\"\n",
              "            style=\"display:none;\">\n",
              "\n",
              "<svg xmlns=\"http://www.w3.org/2000/svg\" height=\"24px\"viewBox=\"0 0 24 24\"\n",
              "     width=\"24px\">\n",
              "    <g>\n",
              "        <path d=\"M19 3H5c-1.1 0-2 .9-2 2v14c0 1.1.9 2 2 2h14c1.1 0 2-.9 2-2V5c0-1.1-.9-2-2-2zM9 17H7v-7h2v7zm4 0h-2V7h2v10zm4 0h-2v-4h2v4z\"/>\n",
              "    </g>\n",
              "</svg>\n",
              "  </button>\n",
              "\n",
              "<style>\n",
              "  .colab-df-quickchart {\n",
              "      --bg-color: #E8F0FE;\n",
              "      --fill-color: #1967D2;\n",
              "      --hover-bg-color: #E2EBFA;\n",
              "      --hover-fill-color: #174EA6;\n",
              "      --disabled-fill-color: #AAA;\n",
              "      --disabled-bg-color: #DDD;\n",
              "  }\n",
              "\n",
              "  [theme=dark] .colab-df-quickchart {\n",
              "      --bg-color: #3B4455;\n",
              "      --fill-color: #D2E3FC;\n",
              "      --hover-bg-color: #434B5C;\n",
              "      --hover-fill-color: #FFFFFF;\n",
              "      --disabled-bg-color: #3B4455;\n",
              "      --disabled-fill-color: #666;\n",
              "  }\n",
              "\n",
              "  .colab-df-quickchart {\n",
              "    background-color: var(--bg-color);\n",
              "    border: none;\n",
              "    border-radius: 50%;\n",
              "    cursor: pointer;\n",
              "    display: none;\n",
              "    fill: var(--fill-color);\n",
              "    height: 32px;\n",
              "    padding: 0;\n",
              "    width: 32px;\n",
              "  }\n",
              "\n",
              "  .colab-df-quickchart:hover {\n",
              "    background-color: var(--hover-bg-color);\n",
              "    box-shadow: 0 1px 2px rgba(60, 64, 67, 0.3), 0 1px 3px 1px rgba(60, 64, 67, 0.15);\n",
              "    fill: var(--button-hover-fill-color);\n",
              "  }\n",
              "\n",
              "  .colab-df-quickchart-complete:disabled,\n",
              "  .colab-df-quickchart-complete:disabled:hover {\n",
              "    background-color: var(--disabled-bg-color);\n",
              "    fill: var(--disabled-fill-color);\n",
              "    box-shadow: none;\n",
              "  }\n",
              "\n",
              "  .colab-df-spinner {\n",
              "    border: 2px solid var(--fill-color);\n",
              "    border-color: transparent;\n",
              "    border-bottom-color: var(--fill-color);\n",
              "    animation:\n",
              "      spin 1s steps(1) infinite;\n",
              "  }\n",
              "\n",
              "  @keyframes spin {\n",
              "    0% {\n",
              "      border-color: transparent;\n",
              "      border-bottom-color: var(--fill-color);\n",
              "      border-left-color: var(--fill-color);\n",
              "    }\n",
              "    20% {\n",
              "      border-color: transparent;\n",
              "      border-left-color: var(--fill-color);\n",
              "      border-top-color: var(--fill-color);\n",
              "    }\n",
              "    30% {\n",
              "      border-color: transparent;\n",
              "      border-left-color: var(--fill-color);\n",
              "      border-top-color: var(--fill-color);\n",
              "      border-right-color: var(--fill-color);\n",
              "    }\n",
              "    40% {\n",
              "      border-color: transparent;\n",
              "      border-right-color: var(--fill-color);\n",
              "      border-top-color: var(--fill-color);\n",
              "    }\n",
              "    60% {\n",
              "      border-color: transparent;\n",
              "      border-right-color: var(--fill-color);\n",
              "    }\n",
              "    80% {\n",
              "      border-color: transparent;\n",
              "      border-right-color: var(--fill-color);\n",
              "      border-bottom-color: var(--fill-color);\n",
              "    }\n",
              "    90% {\n",
              "      border-color: transparent;\n",
              "      border-bottom-color: var(--fill-color);\n",
              "    }\n",
              "  }\n",
              "</style>\n",
              "\n",
              "  <script>\n",
              "    async function quickchart(key) {\n",
              "      const quickchartButtonEl =\n",
              "        document.querySelector('#' + key + ' button');\n",
              "      quickchartButtonEl.disabled = true;  // To prevent multiple clicks.\n",
              "      quickchartButtonEl.classList.add('colab-df-spinner');\n",
              "      try {\n",
              "        const charts = await google.colab.kernel.invokeFunction(\n",
              "            'suggestCharts', [key], {});\n",
              "      } catch (error) {\n",
              "        console.error('Error during call to suggestCharts:', error);\n",
              "      }\n",
              "      quickchartButtonEl.classList.remove('colab-df-spinner');\n",
              "      quickchartButtonEl.classList.add('colab-df-quickchart-complete');\n",
              "    }\n",
              "    (() => {\n",
              "      let quickchartButtonEl =\n",
              "        document.querySelector('#df-7ec132bb-38bf-4a91-b220-ec9f567a446a button');\n",
              "      quickchartButtonEl.style.display =\n",
              "        google.colab.kernel.accessAllowed ? 'block' : 'none';\n",
              "    })();\n",
              "  </script>\n",
              "</div>\n",
              "    </div>\n",
              "  </div>\n"
            ]
          },
          "metadata": {},
          "execution_count": 136
        }
      ],
      "source": [
        "import numpy as np\n",
        "import pandas as pd\n",
        "\n",
        "data=pd.read_csv(\"https://github.com/YBI-Foundation/Dataset/raw/main/CollegePlacement.csv\")\n",
        "data.head()"
      ]
    },
    {
      "cell_type": "code",
      "source": [
        "data.info()"
      ],
      "metadata": {
        "colab": {
          "base_uri": "https://localhost:8080/"
        },
        "id": "0HP2WcdtIk0R",
        "outputId": "9298211a-3686-432d-ece5-c4e6b656d248"
      },
      "execution_count": 137,
      "outputs": [
        {
          "output_type": "stream",
          "name": "stdout",
          "text": [
            "<class 'pandas.core.frame.DataFrame'>\n",
            "RangeIndex: 200 entries, 0 to 199\n",
            "Data columns (total 6 columns):\n",
            " #   Column           Non-Null Count  Dtype  \n",
            "---  ------           --------------  -----  \n",
            " 0   Python           200 non-null    float64\n",
            " 1   DeepLearning     200 non-null    float64\n",
            " 2   MachineLearning  200 non-null    float64\n",
            " 3   BigData          200 non-null    float64\n",
            " 4   CloudComputing   200 non-null    float64\n",
            " 5   Placement        200 non-null    object \n",
            "dtypes: float64(5), object(1)\n",
            "memory usage: 9.5+ KB\n"
          ]
        }
      ]
    },
    {
      "cell_type": "code",
      "source": [
        "data.describe()"
      ],
      "metadata": {
        "colab": {
          "base_uri": "https://localhost:8080/",
          "height": 300
        },
        "id": "YCXw1GOpItM8",
        "outputId": "ec21c44e-9d3a-4e8e-9158-2d4a488c50a1"
      },
      "execution_count": 138,
      "outputs": [
        {
          "output_type": "execute_result",
          "data": {
            "text/plain": [
              "           Python  DeepLearning  MachineLearning     BigData  CloudComputing\n",
              "count  200.000000    200.000000       200.000000  200.000000      200.000000\n",
              "mean     0.514100      0.495850         0.514350    0.495150        0.474950\n",
              "std      0.305749      0.290694         0.285211    0.292463        0.281686\n",
              "min      0.000000      0.010000         0.000000    0.010000        0.000000\n",
              "25%      0.237500      0.227500         0.267500    0.240000        0.227500\n",
              "50%      0.545000      0.490000         0.540000    0.500000        0.485000\n",
              "75%      0.800000      0.740000         0.770000    0.740000        0.702500\n",
              "max      1.000000      1.000000         1.000000    1.000000        0.990000"
            ],
            "text/html": [
              "\n",
              "  <div id=\"df-810d2101-99b3-4615-a726-1427d44ef92c\" class=\"colab-df-container\">\n",
              "    <div>\n",
              "<style scoped>\n",
              "    .dataframe tbody tr th:only-of-type {\n",
              "        vertical-align: middle;\n",
              "    }\n",
              "\n",
              "    .dataframe tbody tr th {\n",
              "        vertical-align: top;\n",
              "    }\n",
              "\n",
              "    .dataframe thead th {\n",
              "        text-align: right;\n",
              "    }\n",
              "</style>\n",
              "<table border=\"1\" class=\"dataframe\">\n",
              "  <thead>\n",
              "    <tr style=\"text-align: right;\">\n",
              "      <th></th>\n",
              "      <th>Python</th>\n",
              "      <th>DeepLearning</th>\n",
              "      <th>MachineLearning</th>\n",
              "      <th>BigData</th>\n",
              "      <th>CloudComputing</th>\n",
              "    </tr>\n",
              "  </thead>\n",
              "  <tbody>\n",
              "    <tr>\n",
              "      <th>count</th>\n",
              "      <td>200.000000</td>\n",
              "      <td>200.000000</td>\n",
              "      <td>200.000000</td>\n",
              "      <td>200.000000</td>\n",
              "      <td>200.000000</td>\n",
              "    </tr>\n",
              "    <tr>\n",
              "      <th>mean</th>\n",
              "      <td>0.514100</td>\n",
              "      <td>0.495850</td>\n",
              "      <td>0.514350</td>\n",
              "      <td>0.495150</td>\n",
              "      <td>0.474950</td>\n",
              "    </tr>\n",
              "    <tr>\n",
              "      <th>std</th>\n",
              "      <td>0.305749</td>\n",
              "      <td>0.290694</td>\n",
              "      <td>0.285211</td>\n",
              "      <td>0.292463</td>\n",
              "      <td>0.281686</td>\n",
              "    </tr>\n",
              "    <tr>\n",
              "      <th>min</th>\n",
              "      <td>0.000000</td>\n",
              "      <td>0.010000</td>\n",
              "      <td>0.000000</td>\n",
              "      <td>0.010000</td>\n",
              "      <td>0.000000</td>\n",
              "    </tr>\n",
              "    <tr>\n",
              "      <th>25%</th>\n",
              "      <td>0.237500</td>\n",
              "      <td>0.227500</td>\n",
              "      <td>0.267500</td>\n",
              "      <td>0.240000</td>\n",
              "      <td>0.227500</td>\n",
              "    </tr>\n",
              "    <tr>\n",
              "      <th>50%</th>\n",
              "      <td>0.545000</td>\n",
              "      <td>0.490000</td>\n",
              "      <td>0.540000</td>\n",
              "      <td>0.500000</td>\n",
              "      <td>0.485000</td>\n",
              "    </tr>\n",
              "    <tr>\n",
              "      <th>75%</th>\n",
              "      <td>0.800000</td>\n",
              "      <td>0.740000</td>\n",
              "      <td>0.770000</td>\n",
              "      <td>0.740000</td>\n",
              "      <td>0.702500</td>\n",
              "    </tr>\n",
              "    <tr>\n",
              "      <th>max</th>\n",
              "      <td>1.000000</td>\n",
              "      <td>1.000000</td>\n",
              "      <td>1.000000</td>\n",
              "      <td>1.000000</td>\n",
              "      <td>0.990000</td>\n",
              "    </tr>\n",
              "  </tbody>\n",
              "</table>\n",
              "</div>\n",
              "    <div class=\"colab-df-buttons\">\n",
              "\n",
              "  <div class=\"colab-df-container\">\n",
              "    <button class=\"colab-df-convert\" onclick=\"convertToInteractive('df-810d2101-99b3-4615-a726-1427d44ef92c')\"\n",
              "            title=\"Convert this dataframe to an interactive table.\"\n",
              "            style=\"display:none;\">\n",
              "\n",
              "  <svg xmlns=\"http://www.w3.org/2000/svg\" height=\"24px\" viewBox=\"0 -960 960 960\">\n",
              "    <path d=\"M120-120v-720h720v720H120Zm60-500h600v-160H180v160Zm220 220h160v-160H400v160Zm0 220h160v-160H400v160ZM180-400h160v-160H180v160Zm440 0h160v-160H620v160ZM180-180h160v-160H180v160Zm440 0h160v-160H620v160Z\"/>\n",
              "  </svg>\n",
              "    </button>\n",
              "\n",
              "  <style>\n",
              "    .colab-df-container {\n",
              "      display:flex;\n",
              "      gap: 12px;\n",
              "    }\n",
              "\n",
              "    .colab-df-convert {\n",
              "      background-color: #E8F0FE;\n",
              "      border: none;\n",
              "      border-radius: 50%;\n",
              "      cursor: pointer;\n",
              "      display: none;\n",
              "      fill: #1967D2;\n",
              "      height: 32px;\n",
              "      padding: 0 0 0 0;\n",
              "      width: 32px;\n",
              "    }\n",
              "\n",
              "    .colab-df-convert:hover {\n",
              "      background-color: #E2EBFA;\n",
              "      box-shadow: 0px 1px 2px rgba(60, 64, 67, 0.3), 0px 1px 3px 1px rgba(60, 64, 67, 0.15);\n",
              "      fill: #174EA6;\n",
              "    }\n",
              "\n",
              "    .colab-df-buttons div {\n",
              "      margin-bottom: 4px;\n",
              "    }\n",
              "\n",
              "    [theme=dark] .colab-df-convert {\n",
              "      background-color: #3B4455;\n",
              "      fill: #D2E3FC;\n",
              "    }\n",
              "\n",
              "    [theme=dark] .colab-df-convert:hover {\n",
              "      background-color: #434B5C;\n",
              "      box-shadow: 0px 1px 3px 1px rgba(0, 0, 0, 0.15);\n",
              "      filter: drop-shadow(0px 1px 2px rgba(0, 0, 0, 0.3));\n",
              "      fill: #FFFFFF;\n",
              "    }\n",
              "  </style>\n",
              "\n",
              "    <script>\n",
              "      const buttonEl =\n",
              "        document.querySelector('#df-810d2101-99b3-4615-a726-1427d44ef92c button.colab-df-convert');\n",
              "      buttonEl.style.display =\n",
              "        google.colab.kernel.accessAllowed ? 'block' : 'none';\n",
              "\n",
              "      async function convertToInteractive(key) {\n",
              "        const element = document.querySelector('#df-810d2101-99b3-4615-a726-1427d44ef92c');\n",
              "        const dataTable =\n",
              "          await google.colab.kernel.invokeFunction('convertToInteractive',\n",
              "                                                    [key], {});\n",
              "        if (!dataTable) return;\n",
              "\n",
              "        const docLinkHtml = 'Like what you see? Visit the ' +\n",
              "          '<a target=\"_blank\" href=https://colab.research.google.com/notebooks/data_table.ipynb>data table notebook</a>'\n",
              "          + ' to learn more about interactive tables.';\n",
              "        element.innerHTML = '';\n",
              "        dataTable['output_type'] = 'display_data';\n",
              "        await google.colab.output.renderOutput(dataTable, element);\n",
              "        const docLink = document.createElement('div');\n",
              "        docLink.innerHTML = docLinkHtml;\n",
              "        element.appendChild(docLink);\n",
              "      }\n",
              "    </script>\n",
              "  </div>\n",
              "\n",
              "\n",
              "<div id=\"df-dbca0402-4add-4f8e-a97c-ae0f785f2c6d\">\n",
              "  <button class=\"colab-df-quickchart\" onclick=\"quickchart('df-dbca0402-4add-4f8e-a97c-ae0f785f2c6d')\"\n",
              "            title=\"Suggest charts\"\n",
              "            style=\"display:none;\">\n",
              "\n",
              "<svg xmlns=\"http://www.w3.org/2000/svg\" height=\"24px\"viewBox=\"0 0 24 24\"\n",
              "     width=\"24px\">\n",
              "    <g>\n",
              "        <path d=\"M19 3H5c-1.1 0-2 .9-2 2v14c0 1.1.9 2 2 2h14c1.1 0 2-.9 2-2V5c0-1.1-.9-2-2-2zM9 17H7v-7h2v7zm4 0h-2V7h2v10zm4 0h-2v-4h2v4z\"/>\n",
              "    </g>\n",
              "</svg>\n",
              "  </button>\n",
              "\n",
              "<style>\n",
              "  .colab-df-quickchart {\n",
              "      --bg-color: #E8F0FE;\n",
              "      --fill-color: #1967D2;\n",
              "      --hover-bg-color: #E2EBFA;\n",
              "      --hover-fill-color: #174EA6;\n",
              "      --disabled-fill-color: #AAA;\n",
              "      --disabled-bg-color: #DDD;\n",
              "  }\n",
              "\n",
              "  [theme=dark] .colab-df-quickchart {\n",
              "      --bg-color: #3B4455;\n",
              "      --fill-color: #D2E3FC;\n",
              "      --hover-bg-color: #434B5C;\n",
              "      --hover-fill-color: #FFFFFF;\n",
              "      --disabled-bg-color: #3B4455;\n",
              "      --disabled-fill-color: #666;\n",
              "  }\n",
              "\n",
              "  .colab-df-quickchart {\n",
              "    background-color: var(--bg-color);\n",
              "    border: none;\n",
              "    border-radius: 50%;\n",
              "    cursor: pointer;\n",
              "    display: none;\n",
              "    fill: var(--fill-color);\n",
              "    height: 32px;\n",
              "    padding: 0;\n",
              "    width: 32px;\n",
              "  }\n",
              "\n",
              "  .colab-df-quickchart:hover {\n",
              "    background-color: var(--hover-bg-color);\n",
              "    box-shadow: 0 1px 2px rgba(60, 64, 67, 0.3), 0 1px 3px 1px rgba(60, 64, 67, 0.15);\n",
              "    fill: var(--button-hover-fill-color);\n",
              "  }\n",
              "\n",
              "  .colab-df-quickchart-complete:disabled,\n",
              "  .colab-df-quickchart-complete:disabled:hover {\n",
              "    background-color: var(--disabled-bg-color);\n",
              "    fill: var(--disabled-fill-color);\n",
              "    box-shadow: none;\n",
              "  }\n",
              "\n",
              "  .colab-df-spinner {\n",
              "    border: 2px solid var(--fill-color);\n",
              "    border-color: transparent;\n",
              "    border-bottom-color: var(--fill-color);\n",
              "    animation:\n",
              "      spin 1s steps(1) infinite;\n",
              "  }\n",
              "\n",
              "  @keyframes spin {\n",
              "    0% {\n",
              "      border-color: transparent;\n",
              "      border-bottom-color: var(--fill-color);\n",
              "      border-left-color: var(--fill-color);\n",
              "    }\n",
              "    20% {\n",
              "      border-color: transparent;\n",
              "      border-left-color: var(--fill-color);\n",
              "      border-top-color: var(--fill-color);\n",
              "    }\n",
              "    30% {\n",
              "      border-color: transparent;\n",
              "      border-left-color: var(--fill-color);\n",
              "      border-top-color: var(--fill-color);\n",
              "      border-right-color: var(--fill-color);\n",
              "    }\n",
              "    40% {\n",
              "      border-color: transparent;\n",
              "      border-right-color: var(--fill-color);\n",
              "      border-top-color: var(--fill-color);\n",
              "    }\n",
              "    60% {\n",
              "      border-color: transparent;\n",
              "      border-right-color: var(--fill-color);\n",
              "    }\n",
              "    80% {\n",
              "      border-color: transparent;\n",
              "      border-right-color: var(--fill-color);\n",
              "      border-bottom-color: var(--fill-color);\n",
              "    }\n",
              "    90% {\n",
              "      border-color: transparent;\n",
              "      border-bottom-color: var(--fill-color);\n",
              "    }\n",
              "  }\n",
              "</style>\n",
              "\n",
              "  <script>\n",
              "    async function quickchart(key) {\n",
              "      const quickchartButtonEl =\n",
              "        document.querySelector('#' + key + ' button');\n",
              "      quickchartButtonEl.disabled = true;  // To prevent multiple clicks.\n",
              "      quickchartButtonEl.classList.add('colab-df-spinner');\n",
              "      try {\n",
              "        const charts = await google.colab.kernel.invokeFunction(\n",
              "            'suggestCharts', [key], {});\n",
              "      } catch (error) {\n",
              "        console.error('Error during call to suggestCharts:', error);\n",
              "      }\n",
              "      quickchartButtonEl.classList.remove('colab-df-spinner');\n",
              "      quickchartButtonEl.classList.add('colab-df-quickchart-complete');\n",
              "    }\n",
              "    (() => {\n",
              "      let quickchartButtonEl =\n",
              "        document.querySelector('#df-dbca0402-4add-4f8e-a97c-ae0f785f2c6d button');\n",
              "      quickchartButtonEl.style.display =\n",
              "        google.colab.kernel.accessAllowed ? 'block' : 'none';\n",
              "    })();\n",
              "  </script>\n",
              "</div>\n",
              "    </div>\n",
              "  </div>\n"
            ]
          },
          "metadata": {},
          "execution_count": 138
        }
      ]
    },
    {
      "cell_type": "code",
      "source": [
        "data.columns"
      ],
      "metadata": {
        "colab": {
          "base_uri": "https://localhost:8080/"
        },
        "id": "5mKvXoX1I6cq",
        "outputId": "bed708f2-0202-4505-8ef7-61387471c89f"
      },
      "execution_count": 139,
      "outputs": [
        {
          "output_type": "execute_result",
          "data": {
            "text/plain": [
              "Index(['Python', 'DeepLearning', 'MachineLearning', 'BigData',\n",
              "       'CloudComputing', 'Placement'],\n",
              "      dtype='object')"
            ]
          },
          "metadata": {},
          "execution_count": 139
        }
      ]
    },
    {
      "cell_type": "code",
      "source": [
        "key=['Yes','No']\n",
        "val=np.zeros(2)"
      ],
      "metadata": {
        "id": "Va4FdEchJCMB"
      },
      "execution_count": 140,
      "outputs": []
    },
    {
      "cell_type": "markdown",
      "source": [
        "#Train Test Split"
      ],
      "metadata": {
        "id": "XGTZbFgDJR9F"
      }
    },
    {
      "cell_type": "code",
      "source": [
        "from sklearn.model_selection import train_test_split\n",
        "x,tx=train_test_split(data,random_state=2529)"
      ],
      "metadata": {
        "id": "sHvrROSUJU_Q"
      },
      "execution_count": 141,
      "outputs": []
    },
    {
      "cell_type": "markdown",
      "source": [
        "#Frequency Table for Python"
      ],
      "metadata": {
        "id": "r4V7rvZoJfuv"
      }
    },
    {
      "cell_type": "code",
      "source": [
        "frt1={'Range':[],'Yes':[],'No':[]}"
      ],
      "metadata": {
        "id": "jR8sT1DrJo5L"
      },
      "execution_count": 142,
      "outputs": []
    },
    {
      "cell_type": "code",
      "source": [
        "start=0\n",
        "mark=0.1\n",
        "while mark<1.1:\n",
        "  filt = x[(x['Python'] >=start) & (x['Python'] < mark)]\n",
        "  frt1['Range'].append((start,mark))\n",
        "  farm=filt['Placement'].tolist()\n",
        "  for sti in farm:\n",
        "    j=key.index(sti)\n",
        "    val[j]+=1\n",
        "  frt1['Yes'].append(val[0])\n",
        "  frt1['No'].append(val[1])\n",
        "  val[0]=0\n",
        "  val[1]=0\n",
        "  mark=round(mark+0.1,3)\n",
        "  start=round(start+0.1,3)\n",
        "frt1"
      ],
      "metadata": {
        "colab": {
          "base_uri": "https://localhost:8080/"
        },
        "id": "zPtA5YmbJyns",
        "outputId": "cd15ffbc-a27b-4c88-b348-08caf902fdce"
      },
      "execution_count": 143,
      "outputs": [
        {
          "output_type": "execute_result",
          "data": {
            "text/plain": [
              "{'Range': [(0, 0.1),\n",
              "  (0.1, 0.2),\n",
              "  (0.2, 0.3),\n",
              "  (0.3, 0.4),\n",
              "  (0.4, 0.5),\n",
              "  (0.5, 0.6),\n",
              "  (0.6, 0.7),\n",
              "  (0.7, 0.8),\n",
              "  (0.8, 0.9),\n",
              "  (0.9, 1.0)],\n",
              " 'Yes': [11.0, 15.0, 7.0, 6.0, 3.0, 7.0, 6.0, 10.0, 17.0, 8.0],\n",
              " 'No': [7.0, 6.0, 6.0, 5.0, 6.0, 4.0, 7.0, 5.0, 7.0, 5.0]}"
            ]
          },
          "metadata": {},
          "execution_count": 143
        }
      ]
    },
    {
      "cell_type": "markdown",
      "source": [
        "#Frequency table for DeepLearning"
      ],
      "metadata": {
        "id": "G1KAPIpVMxxn"
      }
    },
    {
      "cell_type": "code",
      "source": [
        "frt2={'Range':[],'Yes':[],'No':[]}"
      ],
      "metadata": {
        "id": "hB-oHn19M8M5"
      },
      "execution_count": 144,
      "outputs": []
    },
    {
      "cell_type": "code",
      "source": [
        "start=0\n",
        "mark=0.1\n",
        "while mark<1.1:\n",
        "  filt = x[(x['DeepLearning'] >=start) & (x['DeepLearning'] < mark)]\n",
        "  frt2['Range'].append((start,mark))\n",
        "  farm=filt['Placement'].tolist()\n",
        "  for sti in farm:\n",
        "    j=key.index(sti)\n",
        "    val[j]+=1\n",
        "  frt2['Yes'].append(val[0])\n",
        "  frt2['No'].append(val[1])\n",
        "  val[0]=0\n",
        "  val[1]=0\n",
        "  mark=round(mark+0.1,3)\n",
        "  start=round(start+0.1,3)\n",
        "frt2"
      ],
      "metadata": {
        "colab": {
          "base_uri": "https://localhost:8080/"
        },
        "id": "K6MR2_XwNC_7",
        "outputId": "5dbd9bba-be9a-41a2-a05a-5beb5521de8f"
      },
      "execution_count": 145,
      "outputs": [
        {
          "output_type": "execute_result",
          "data": {
            "text/plain": [
              "{'Range': [(0, 0.1),\n",
              "  (0.1, 0.2),\n",
              "  (0.2, 0.3),\n",
              "  (0.3, 0.4),\n",
              "  (0.4, 0.5),\n",
              "  (0.5, 0.6),\n",
              "  (0.6, 0.7),\n",
              "  (0.7, 0.8),\n",
              "  (0.8, 0.9),\n",
              "  (0.9, 1.0)],\n",
              " 'Yes': [8.0, 10.0, 7.0, 13.0, 8.0, 11.0, 6.0, 6.0, 8.0, 14.0],\n",
              " 'No': [4.0, 10.0, 7.0, 4.0, 5.0, 5.0, 6.0, 7.0, 5.0, 5.0]}"
            ]
          },
          "metadata": {},
          "execution_count": 145
        }
      ]
    },
    {
      "cell_type": "markdown",
      "source": [
        "#Frequency Table for MachineLearning"
      ],
      "metadata": {
        "id": "tVHEx5pENoOU"
      }
    },
    {
      "cell_type": "code",
      "source": [
        "frt3={'Range':[],'Yes':[],'No':[]}"
      ],
      "metadata": {
        "id": "o69RBxmmNvA8"
      },
      "execution_count": 146,
      "outputs": []
    },
    {
      "cell_type": "code",
      "source": [
        "start=0\n",
        "mark=0.1\n",
        "while mark<1.1:\n",
        "  filt = x[(x['MachineLearning'] >=start) & (x['MachineLearning'] < mark)]\n",
        "  frt3['Range'].append((start,mark))\n",
        "  farm=filt['Placement'].tolist()\n",
        "  for sti in farm:\n",
        "    j=key.index(sti)\n",
        "    val[j]+=1\n",
        "  frt3['Yes'].append(val[0])\n",
        "  frt3['No'].append(val[1])\n",
        "  val[0]=0\n",
        "  val[1]=0\n",
        "  mark=round(mark+0.1,3)\n",
        "  start=round(start+0.1,3)\n",
        "frt3"
      ],
      "metadata": {
        "colab": {
          "base_uri": "https://localhost:8080/"
        },
        "id": "XaxP6KqZN1r9",
        "outputId": "07859a95-ceb3-41fc-e0d7-fec203048b43"
      },
      "execution_count": 147,
      "outputs": [
        {
          "output_type": "execute_result",
          "data": {
            "text/plain": [
              "{'Range': [(0, 0.1),\n",
              "  (0.1, 0.2),\n",
              "  (0.2, 0.3),\n",
              "  (0.3, 0.4),\n",
              "  (0.4, 0.5),\n",
              "  (0.5, 0.6),\n",
              "  (0.6, 0.7),\n",
              "  (0.7, 0.8),\n",
              "  (0.8, 0.9),\n",
              "  (0.9, 1.0)],\n",
              " 'Yes': [6.0, 11.0, 4.0, 7.0, 7.0, 15.0, 11.0, 12.0, 9.0, 8.0],\n",
              " 'No': [7.0, 7.0, 9.0, 3.0, 4.0, 8.0, 8.0, 7.0, 3.0, 3.0]}"
            ]
          },
          "metadata": {},
          "execution_count": 147
        }
      ]
    },
    {
      "cell_type": "markdown",
      "source": [
        "#Frequency Table for BigData"
      ],
      "metadata": {
        "id": "SZkYVP45ON4Q"
      }
    },
    {
      "cell_type": "code",
      "source": [
        "frt4={'Range':[],'Yes':[],'No':[]}"
      ],
      "metadata": {
        "id": "TV7mkMnQOVLj"
      },
      "execution_count": 148,
      "outputs": []
    },
    {
      "cell_type": "code",
      "source": [
        "start=0\n",
        "mark=0.1\n",
        "while mark<1.1:\n",
        "  filt = x[(x['BigData'] >=start) & (x['BigData'] < mark)]\n",
        "  frt4['Range'].append((start,mark))\n",
        "  farm=filt['Placement'].tolist()\n",
        "  for sti in farm:\n",
        "    j=key.index(sti)\n",
        "    val[j]+=1\n",
        "  frt4['Yes'].append(val[0])\n",
        "  frt4['No'].append(val[1])\n",
        "  val[0]=0\n",
        "  val[1]=0\n",
        "  mark=round(mark+0.1,3)\n",
        "  start=round(start+0.1,3)\n",
        "frt4"
      ],
      "metadata": {
        "colab": {
          "base_uri": "https://localhost:8080/"
        },
        "id": "4GkzbRPnOZjl",
        "outputId": "798ac214-0f67-427e-ec28-6ecf4664ac6d"
      },
      "execution_count": 149,
      "outputs": [
        {
          "output_type": "execute_result",
          "data": {
            "text/plain": [
              "{'Range': [(0, 0.1),\n",
              "  (0.1, 0.2),\n",
              "  (0.2, 0.3),\n",
              "  (0.3, 0.4),\n",
              "  (0.4, 0.5),\n",
              "  (0.5, 0.6),\n",
              "  (0.6, 0.7),\n",
              "  (0.7, 0.8),\n",
              "  (0.8, 0.9),\n",
              "  (0.9, 1.0)],\n",
              " 'Yes': [10.0, 11.0, 6.0, 8.0, 10.0, 13.0, 8.0, 5.0, 13.0, 7.0],\n",
              " 'No': [8.0, 8.0, 2.0, 8.0, 6.0, 4.0, 7.0, 8.0, 6.0, 1.0]}"
            ]
          },
          "metadata": {},
          "execution_count": 149
        }
      ]
    },
    {
      "cell_type": "markdown",
      "source": [
        "#Frequency Table for CloudComputing"
      ],
      "metadata": {
        "id": "d5P8S23dOtbd"
      }
    },
    {
      "cell_type": "code",
      "source": [
        "frt5={'Range':[],'Yes':[],'No':[]}"
      ],
      "metadata": {
        "id": "M01hXr1_Oy_8"
      },
      "execution_count": 150,
      "outputs": []
    },
    {
      "cell_type": "code",
      "source": [
        "start=0\n",
        "mark=0.1\n",
        "while mark<1.1:\n",
        "  filt = x[(x['CloudComputing'] >=start) & (x['CloudComputing'] < mark)]\n",
        "  frt5['Range'].append((start,mark))\n",
        "  farm=filt['Placement'].tolist()\n",
        "  for sti in farm:\n",
        "    j=key.index(sti)\n",
        "    val[j]+=1\n",
        "  frt5['Yes'].append(val[0])\n",
        "  frt5['No'].append(val[1])\n",
        "  val[0]=0\n",
        "  val[1]=0\n",
        "  mark=round(mark+0.1,3)\n",
        "  start=round(start+0.1,3)\n",
        "frt5"
      ],
      "metadata": {
        "colab": {
          "base_uri": "https://localhost:8080/"
        },
        "id": "J74KO1nAO43_",
        "outputId": "5ed4efa7-b843-4633-a1d5-d8241cc720d1"
      },
      "execution_count": 151,
      "outputs": [
        {
          "output_type": "execute_result",
          "data": {
            "text/plain": [
              "{'Range': [(0, 0.1),\n",
              "  (0.1, 0.2),\n",
              "  (0.2, 0.3),\n",
              "  (0.3, 0.4),\n",
              "  (0.4, 0.5),\n",
              "  (0.5, 0.6),\n",
              "  (0.6, 0.7),\n",
              "  (0.7, 0.8),\n",
              "  (0.8, 0.9),\n",
              "  (0.9, 1.0)],\n",
              " 'Yes': [10.0, 13.0, 11.0, 6.0, 11.0, 8.0, 7.0, 7.0, 10.0, 8.0],\n",
              " 'No': [3.0, 5.0, 11.0, 5.0, 6.0, 11.0, 7.0, 6.0, 3.0, 2.0]}"
            ]
          },
          "metadata": {},
          "execution_count": 151
        }
      ]
    },
    {
      "cell_type": "markdown",
      "source": [
        "#Naive Bayes Classifier"
      ],
      "metadata": {
        "id": "EESPyshfPRwt"
      }
    },
    {
      "cell_type": "code",
      "source": [
        "def nbc(py,dl,ml,bd,cc):\n",
        "  M=len(x)\n",
        "  prob=np.zeros(2)\n",
        "\n",
        "  p_y=(sum(frt1['Yes'])+sum(frt2['Yes'])+sum(frt3['Yes'])+sum(frt4['Yes'])+sum(frt5['Yes']))/M\n",
        "  p_n=(sum(frt1['No'])+sum(frt2['No'])+sum(frt3['No'])+sum(frt4['No'])+sum(frt5['No']))/M\n",
        "\n",
        "  for t in frt1['Range']:\n",
        "    if py>=t[0] and py<t[1]:\n",
        "      break\n",
        "  ind = frt1['Range'].index(t)\n",
        "  p_py_y=frt1['Yes'][ind]/sum(frt1['Yes'])\n",
        "  p_py_n=frt1['No'][ind]/sum(frt1['No'])\n",
        "\n",
        "  for t in frt2['Range']:\n",
        "    if dl>=t[0] and dl<t[1]:\n",
        "      break\n",
        "  ind = frt2['Range'].index(t)\n",
        "  p_dl_y=frt2['Yes'][ind]/sum(frt2['Yes'])\n",
        "  p_dl_n=frt2['No'][ind]/sum(frt2['No'])\n",
        "\n",
        "  for t in frt3['Range']:\n",
        "    if ml>=t[0] and ml<t[1]:\n",
        "      break\n",
        "  ind = frt3['Range'].index(t)\n",
        "  p_ml_y=frt3['Yes'][ind]/sum(frt3['Yes'])\n",
        "  p_ml_n=frt3['No'][ind]/sum(frt3['No'])\n",
        "\n",
        "  for t in frt4['Range']:\n",
        "    if bd>=t[0] and bd<t[1]:\n",
        "      break\n",
        "  ind = frt4['Range'].index(t)\n",
        "  p_bd_y=frt4['Yes'][ind]/sum(frt4['Yes'])\n",
        "  p_bd_n=frt4['No'][ind]/sum(frt4['No'])\n",
        "\n",
        "  for t in frt5['Range']:\n",
        "    if cc>=t[0] and cc<t[1]:\n",
        "      break\n",
        "  ind = frt5['Range'].index(t)\n",
        "  p_cc_y=frt5['Yes'][ind]/sum(frt5['Yes'])\n",
        "  p_cc_n=frt5['No'][ind]/sum(frt5['No'])\n",
        "\n",
        "  prob[0]=p_y*p_py_y*p_dl_y*p_ml_y*p_bd_y*p_cc_y\n",
        "  prob[1]=p_n*p_py_n*p_dl_n*p_ml_n*p_bd_n*p_cc_n\n",
        "\n",
        "  return key[np.argmax(prob)]"
      ],
      "metadata": {
        "id": "tt54x-cmPXeW"
      },
      "execution_count": 152,
      "outputs": []
    },
    {
      "cell_type": "markdown",
      "source": [
        "#Testing The Model"
      ],
      "metadata": {
        "id": "BSFYxfByTIvu"
      }
    },
    {
      "cell_type": "code",
      "source": [
        "N=len(tx)\n",
        "para=tx.values.tolist()\n",
        "n=0\n",
        "for i in range(N):\n",
        "  if nbc(para[i][0],para[i][1],para[i][2],para[i][3],para[i][4])==para[i][5]:\n",
        "    n+=1\n",
        "print(n/N*100)\n",
        "print(n)\n",
        "print(N)"
      ],
      "metadata": {
        "colab": {
          "base_uri": "https://localhost:8080/"
        },
        "id": "Tbeo4i7BTNPM",
        "outputId": "3b1f9a1b-0288-4565-df6e-74997bfd334a"
      },
      "execution_count": 153,
      "outputs": [
        {
          "output_type": "stream",
          "name": "stdout",
          "text": [
            "52.0\n",
            "26\n",
            "50\n"
          ]
        }
      ]
    }
  ]
}